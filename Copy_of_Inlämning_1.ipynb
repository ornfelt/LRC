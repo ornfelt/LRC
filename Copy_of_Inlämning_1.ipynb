{
  "nbformat": 4,
  "nbformat_minor": 0,
  "metadata": {
    "kernelspec": {
      "display_name": "Python 3",
      "language": "python",
      "name": "python3"
    },
    "language_info": {
      "codemirror_mode": {
        "name": "ipython",
        "version": 3
      },
      "file_extension": ".py",
      "mimetype": "text/x-python",
      "name": "python",
      "nbconvert_exporter": "python",
      "pygments_lexer": "ipython3",
      "version": "3.7.4"
    },
    "colab": {
      "name": "Copy of Inlämning_1.ipynb",
      "provenance": [],
      "collapsed_sections": [],
      "include_colab_link": true
    }
  },
  "cells": [
    {
      "cell_type": "markdown",
      "metadata": {
        "id": "view-in-github",
        "colab_type": "text"
      },
      "source": [
        "<a href=\"https://colab.research.google.com/github/ornfelt/LRC/blob/master/Copy_of_Inl%C3%A4mning_1.ipynb\" target=\"_parent\"><img src=\"https://colab.research.google.com/assets/colab-badge.svg\" alt=\"Open In Colab\"/></a>"
      ]
    },
    {
      "cell_type": "markdown",
      "metadata": {
        "id": "bw-Vf-6pdy0s"
      },
      "source": [
        "# Inlämning laboration 1\n",
        "\n",
        "Vissa av uppgifterna i denna inlämning är inspirerade från följande källor:\n",
        "\n",
        "- MyMachineLearningCourse in Python, licensierad  under GNU General Public License v3.0\n",
        "- Software Carpentry Copyright ©Software Carpentry, http://software-carpentry.org/, licensierad under Creative Commons Attribution license,https://creativecommons.org/licenses/by/4.0/\n",
        "- Geo Python (© Copyright 2017 Tenkanen & Whipp, University of Helsinki) licensierad under Creative Commons Attribution-ShareAlike 4.0 International licence https://creativecommons.org/licenses/by-sa/4.0/legalcode.\n",
        "\n",
        "\n",
        "Denna laboration ska genomföras i par, när ni arbetar med laborationen ska ni vara noga med att spara era ändringar i GitHub. Det går att göra direkt från collaboratory genom att spara en kopia i ert repository. Detta är dels för att ni inte ska riskera att förlora något arbete men också för att det ska gå att följa ert arbete som lärare. När ni är färdiga ska länken till laborationen i collaboratory lämnas in i Studium. Endast en inlämning per grupp behövs. Det är också att rekommendera att infoga en knapp för att öppna filen i Collaboratory direkt från GitHub, detta får ni en fråga om när ni kopierar filen till GitHub, via arkivmenyn.\n",
        "\n",
        "Det finns totalt 12 uppgifter och frågor, samtliga ska besvaras för godkänt. "
      ]
    },
    {
      "cell_type": "markdown",
      "metadata": {
        "id": "D5FQ6hrkdy0x"
      },
      "source": [
        "## Uppgift 1\n",
        "Skriv ut dagens datum i formatet YYYY-MM-DD"
      ]
    },
    {
      "cell_type": "code",
      "metadata": {
        "id": "5Qhe9wSvwytM",
        "colab": {
          "base_uri": "https://localhost:8080/"
        },
        "outputId": "40546752-044c-423e-cde7-bb86c0a796e7"
      },
      "source": [
        "# Importing date from datetime module\r\n",
        "from datetime import date\r\n",
        "\r\n",
        "#assigning today's date to date.today() \r\n",
        "today = date.today()\r\n",
        "\r\n",
        "#Printing today's date\r\n",
        "print(f'Dagens datum är {today}.')\r\n"
      ],
      "execution_count": null,
      "outputs": [
        {
          "output_type": "stream",
          "text": [
            "Dagens datum är 2021-02-01.\n"
          ],
          "name": "stdout"
        }
      ]
    },
    {
      "cell_type": "markdown",
      "metadata": {
        "id": "IHC2qeQYdy0y"
      },
      "source": [
        "## Uppgift 2  \n",
        "Definiera en funktion `max_of_three()` som tar tre olika nummer som argument och returnerar det största av dem, skriv ut resultatet."
      ]
    },
    {
      "cell_type": "markdown",
      "metadata": {
        "id": "aJdpftCDdy0y"
      },
      "source": [
        "## Uppgift 3  \n",
        "Definiera en funktion `sum()` som summerar och en annan funktion `multiply()` som multiplicerar alla nummer i en lista, skriv ut resultatet \n",
        "\n",
        "**Ex:** `sum([1, 2, 3, 4])` ska returnera 10, och `multiply()([1, 2, 3, 4])` ska returnera 24."
      ]
    },
    {
      "cell_type": "markdown",
      "metadata": {
        "id": "PIu_mgHady0y"
      },
      "source": [
        "## Uppgift 4\n",
        "\n",
        "**a.** Definiera en funktion som tar ett antal (varierande) kommaseparerade nummer som argument och genererar en lista och en tuple som innehåller dessa nummer.\n",
        "\n",
        "**b.** Vad är skillnaden mellan en lista och en tuple i Python?"
      ]
    },
    {
      "cell_type": "markdown",
      "metadata": {
        "id": "aSOWyygGdy0y"
      },
      "source": [
        "## Uppgift 5 \n",
        "Skapa två olika tal som integers. Kalkylera produkten av dessa, om produkten är **högre** än 200, returnera då summan av de två talen,skriv ut resultatet. \n",
        "\n",
        "**Ex**\n",
        "~~~\n",
        "INPUT:  \n",
        "`number1 = 10`  \n",
        "`number2 = 20`\n",
        "\n",
        "RESULT:  \n",
        "The result is 200.\n",
        "~~~\n"
      ]
    },
    {
      "cell_type": "markdown",
      "metadata": {
        "id": "OElCILxXdy0z"
      },
      "source": [
        "## Uppgift 6 \n",
        "**a.** Givet en sträng, skriv ut de bokstäver som finns på alla ojämna indexplatser. \n",
        "\n",
        "**b.** Utveckla ovanstående funktion så att mellanslag inte skrivs ut utan endast index med bokstäver. "
      ]
    },
    {
      "cell_type": "markdown",
      "metadata": {
        "id": "ibaj9iLfdy0z"
      },
      "source": [
        "## Uppgift 7\n",
        "**a** Skapa en sträng som innehåller 4 olika ord, separerade med ; Använd den inbyggda funktionen `split()`och skriv ut de fyra orden på varsin rad.\n",
        "\n",
        "**b** Varför var denna övning viktig inför framtida analys av strukturerad data?\n"
      ]
    },
    {
      "cell_type": "markdown",
      "metadata": {
        "id": "YIbeBwIFdy0z"
      },
      "source": [
        "## Uppgift 8"
      ]
    },
    {
      "cell_type": "markdown",
      "metadata": {
        "id": "BbWEjnhgdy0z"
      },
      "source": [
        "Beräkna inkomstskatten för några olika personer med olika inkomst, använd nedanstående tabell för att se reglerna för inkomstskatt för olika inkomster. Skriv ut varje persons inkomst och skatt på en egen rad. \n",
        "\n",
        "| Inkomst  | Skatt (%) |\n",
        "|----------|-----------|\n",
        "| <=10 000 |     0     |\n",
        "| <=30 000 |     20    |\n",
        "| > 30 000 |     40    |\n",
        "\n",
        "\n",
        "**Ex**\n",
        "\n",
        "~~~\n",
        "En person med en inkomst på 35000 ska betala 10 000*0 + 20 000*0,2 + 5000*0,4 = 6000 kr i skatt.\n",
        "~~~"
      ]
    },
    {
      "cell_type": "markdown",
      "metadata": {
        "id": "Xuyg0tTpdy00"
      },
      "source": [
        "## Uppgift 9\n",
        "\n",
        "**För att genomföra denna uppgift kan fler än ett kodblock behöva skapas.**\n",
        "\n",
        "Skapa en strängvariabel som du döper till name och spara ditt förnamn och efternamn i en enda sträng i denna variabel.\n",
        "\n",
        "Skapa en integervariabel som du döper till iceCreamRating och använd denna för att spara ettnummer mellan 0 till 10 som speglar hur mycket du tycker om glass.\n",
        "\n",
        "Koda sedan i Python något som ger ungefär denna output:\n",
        "\n",
        "Mitt namn är Elin Uppström och jag ger glassätning 7 poäng av 10 möjliga!\n",
        "\n",
        "**OBS!** Elin Uppström ska såklart bestå av innehållet i variabeln name och poängen ska komma från variabeln iceCreamRating"
      ]
    },
    {
      "cell_type": "markdown",
      "metadata": {
        "id": "Voi11kvgdy00"
      },
      "source": [
        "## Uppgift 10\n",
        "\n",
        "a. För att konvertera sekunder till sekunder, minuter och timmar kan följande metod användas med \"brute force\". \n",
        "~~~\n",
        "def convert(seconds): \n",
        "    seconds = seconds % (24 * 3600) \n",
        "    hour = seconds // 3600\n",
        "    seconds %= 3600\n",
        "    minutes = seconds // 60\n",
        "    seconds %= 60\n",
        "      \n",
        "    return \"%d:%02d:%02d\" % (hour, minutes, seconds) \n",
        "      \n",
        "# Driver program \n",
        "n = 12345\n",
        "print(convert(n)) \n",
        "\n",
        "~~~\n",
        "\n",
        "Istället för brute force, skapa två olika förslag på hur samma sak kan åstadkommas med hjälp av Pythons inbyggda bibliotek som ni hittar [här](https://docs.python.org/3/library/index.html).\n"
      ]
    },
    {
      "cell_type": "markdown",
      "metadata": {
        "id": "oNefubSwdy00"
      },
      "source": [
        "## Uppgift 11\n",
        "\n",
        "I filen som heter smhi_vaderdata.csv finns ett helt dyngs väderdata från Visby flygplats, nämligen från den 28 augusti 11.00 till den 29 augusti 11.00. I denna övning ska ni använda denna data och utföra ett antal uppgifter. För att importera den data som finns används ett externt bibliotek som heter pandas som vi kommer använda oss mycket av framöver. Denna gång får ni dock filen importerad åt er samt de olika temperaturerna inlagda i en lista. När ni sedan skriver er egen kod gör ni detta i ett nytt kodblock. \n",
        "\n",
        "a. Skapa tomma listor för olika typer av temperatur, exempelvis varmt, ljummet, kallt etc. Minst tre olika typer av temperaturer ska ingå. \n",
        "\n",
        "b. Iterera över listan och sortera in de olika temperaturerna i de skapade temperaturtyperna, \n",
        "\n",
        "**Ex** \n",
        "~~~\n",
        "temperatur över 18 grader ska till listan med varma temperaturer\n",
        "~~~\n",
        "\n",
        "c. Ange hur många timmar under dygnet de olika temperaturtyperna förekommit. \n",
        "\n",
        "**Ex**\n",
        "\n",
        "~~~\n",
        "Det var varmt fem timmar under dygnet.\n",
        "Det var ljummet åtta timmar under dygnet.\n",
        "Det var inte kallt någon timme under dygnet.\n",
        "~~~\n",
        "\n",
        "d. Förklara vilka argument `read_csv` kan ta och vad de två argument som skickas med i nedanstående kod betyder. \n",
        "\n",
        "e. Vad är den första kolumnen i den dataframe som skapas i koden nedan (ni måste köra koden för att resultatet ska synas.)"
      ]
    },
    {
      "cell_type": "code",
      "metadata": {
        "id": "1RP1FFR8dy00"
      },
      "source": [
        "#importerar pandas och hämtar data från csv-filen till en dataFrame\n",
        "import pandas as pd\n",
        "temperature_df= pd.read_csv(\"smhi_vaderdata.csv\", sep=';')\n",
        "temperature_df"
      ],
      "execution_count": null,
      "outputs": []
    },
    {
      "cell_type": "code",
      "metadata": {
        "id": "JCLzKrwKdy01"
      },
      "source": [
        "#skapar en lista med enbart temperatur\n",
        "temperature = temperature_df['Lufttemperatur']\n",
        "temperature"
      ],
      "execution_count": null,
      "outputs": []
    },
    {
      "cell_type": "code",
      "metadata": {
        "id": "FjiqYqgEdy01"
      },
      "source": [
        "#Din kod för uppgift a här.."
      ],
      "execution_count": null,
      "outputs": []
    },
    {
      "cell_type": "markdown",
      "metadata": {
        "id": "BrFp68Sidy01"
      },
      "source": [
        "## Uppgift 12\n",
        "\n",
        "Restaurang varvet har börjat använda swish i hög utsträckning, dock har de ett problem. Kassans dagliga sammanställning stämmer inte med summan som levereras från banken på hur mycket pengar som inkommit. Anledningen är att banken inte sammanställer swishinkomster per dag. Ägaren behöver därför göra detta manuellt vilket tar mycket tid. \n",
        "\n",
        "Uppgiften är därmed att beräkna en totalsumma av swishinbetalningar per dag och leverera denna sammanställning i en ny fil som ni sedan kan skicka till ägaren för att underlätta dennes arbete. Ni läser in filen på samma sätt som i föregående övning, även denna fil har ; som separator. Som hjälp har också de bibliotek ni behöver för att genomföra uppgiften importerats. Skapa lämligt antal nya kodblock för att utföra uppgiften. \n",
        "\n",
        "\n"
      ]
    },
    {
      "cell_type": "code",
      "metadata": {
        "id": "n1wPpoVtdy02"
      },
      "source": [
        "#Importerar nädvändiga bibliotek\n",
        "import pandas as pd\n",
        "import dateutil\n",
        "import csv as csv"
      ],
      "execution_count": null,
      "outputs": []
    },
    {
      "cell_type": "code",
      "metadata": {
        "id": "ef6bjoICdy02"
      },
      "source": [
        ""
      ],
      "execution_count": null,
      "outputs": []
    }
  ]
}